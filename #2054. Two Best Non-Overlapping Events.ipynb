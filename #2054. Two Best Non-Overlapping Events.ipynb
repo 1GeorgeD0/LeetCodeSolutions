{
 "cells": [
  {
   "cell_type": "markdown",
   "metadata": {},
   "source": [
    "https://leetcode.com/problems/two-best-non-overlapping-events/"
   ]
  },
  {
   "cell_type": "code",
   "execution_count": 15,
   "metadata": {},
   "outputs": [],
   "source": [
    "def maxTwoEvents(events: list[list[int]]) -> int:\n",
    "    max_sum = 0\n",
    "    \n",
    "    for i, (start1, end1, val1) in enumerate(events):\n",
    "        summ = val1\n",
    "        max_val2 = 0\n",
    "        for j, (start2, end2, val2) in enumerate(events):\n",
    "            if i != j:\n",
    "                if (end1 < start2 or end2 < start1) and max_val2 < val2: \n",
    "                    max_val2 = val2\n",
    "        summ += max_val2\n",
    "        if summ > max_sum:\n",
    "            max_sum = summ\n",
    "                    \n",
    "    return max_sum"
   ]
  },
  {
   "cell_type": "code",
   "execution_count": 50,
   "metadata": {},
   "outputs": [],
   "source": [
    "def maxTwoEvents(events: list[list[int]]) -> int:\n",
    "    # Сортируем события по времени окончания\n",
    "    events.sort(key=lambda x: x[1])\n",
    "    \n",
    "    max_val = 0\n",
    "    max_sum = 0\n",
    "    n = len(events)\n",
    "    \n",
    "    # Список для хранения максимальных значений до текущего события\n",
    "    max_vals = [0] * n\n",
    "\n",
    "    # Наполняем массив максимальными значениями\n",
    "    for i in range(n):\n",
    "        max_vals[i] = max(max_val, events[i][2])\n",
    "        max_val = max_vals[i]\n",
    "\n",
    "    # Находим максимальную сумму значений двух непересекающихся событий\n",
    "    for i in range(n):\n",
    "        # Используем двоичный поиск для нахождения первого непересекающегося события\n",
    "        left, right = 0, i - 1\n",
    "        while left <= right:\n",
    "            mid = (left + right) // 2\n",
    "            if events[mid][1] < events[i][0]:  # Если событие не пересекается\n",
    "                left = mid + 1\n",
    "            else:\n",
    "                right = mid - 1\n",
    "                \n",
    "        # max_vals[right] будет максимальным значением для непересекающегося события\n",
    "        if right >= 0:\n",
    "            max_sum = max(max_sum, events[i][2] + max_vals[right])\n",
    "        else:\n",
    "            max_sum = max(max_sum, events[i][2])\n",
    "    \n",
    "    return max_sum\n"
   ]
  },
  {
   "cell_type": "code",
   "execution_count": 51,
   "metadata": {},
   "outputs": [
    {
     "name": "stdout",
     "output_type": "stream",
     "text": [
      "True 4 4\n"
     ]
    }
   ],
   "source": [
    "events = [[1,3,2],[4,5,2],[2,4,3]]\n",
    "ans = 4\n",
    "print(ans == maxTwoEvents(events), ans, maxTwoEvents(events))"
   ]
  },
  {
   "cell_type": "code",
   "execution_count": 52,
   "metadata": {},
   "outputs": [
    {
     "name": "stdout",
     "output_type": "stream",
     "text": [
      "True 5 5\n"
     ]
    }
   ],
   "source": [
    "events = [[1,3,2],[4,5,2],[1,5,5]]\n",
    "ans = 5\n",
    "print(ans == maxTwoEvents(events), ans, maxTwoEvents(events))"
   ]
  },
  {
   "cell_type": "code",
   "execution_count": 53,
   "metadata": {},
   "outputs": [
    {
     "name": "stdout",
     "output_type": "stream",
     "text": [
      "True 8 8\n"
     ]
    }
   ],
   "source": [
    "events = [[1,5,3],[1,5,1],[6,6,5]]\n",
    "ans = 8\n",
    "print(ans == maxTwoEvents(events), ans, maxTwoEvents(events))"
   ]
  },
  {
   "cell_type": "code",
   "execution_count": null,
   "metadata": {},
   "outputs": [],
   "source": []
  },
  {
   "cell_type": "markdown",
   "metadata": {},
   "source": [
    "---"
   ]
  },
  {
   "cell_type": "code",
   "execution_count": 54,
   "metadata": {},
   "outputs": [
    {
     "ename": "NameError",
     "evalue": "name 'List' is not defined",
     "output_type": "error",
     "traceback": [
      "\u001b[1;31m---------------------------------------------------------------------------\u001b[0m",
      "\u001b[1;31mNameError\u001b[0m                                 Traceback (most recent call last)",
      "Cell \u001b[1;32mIn[54], line 1\u001b[0m\n\u001b[1;32m----> 1\u001b[0m \u001b[38;5;28;43;01mclass\u001b[39;49;00m\u001b[43m \u001b[49m\u001b[38;5;21;43;01mSolution\u001b[39;49;00m\u001b[43m:\u001b[49m\n\u001b[0;32m      2\u001b[0m \u001b[43m    \u001b[49m\u001b[38;5;28;43;01mdef\u001b[39;49;00m\u001b[43m \u001b[49m\u001b[38;5;21;43mmaxTwoEvents\u001b[39;49m\u001b[43m(\u001b[49m\u001b[38;5;28;43mself\u001b[39;49m\u001b[43m,\u001b[49m\u001b[43m \u001b[49m\u001b[43mevents\u001b[49m\u001b[43m:\u001b[49m\u001b[43m \u001b[49m\u001b[43mList\u001b[49m\u001b[43m[\u001b[49m\u001b[43mList\u001b[49m\u001b[43m[\u001b[49m\u001b[38;5;28;43mint\u001b[39;49m\u001b[43m]\u001b[49m\u001b[43m]\u001b[49m\u001b[43m)\u001b[49m\u001b[43m \u001b[49m\u001b[38;5;241;43m-\u001b[39;49m\u001b[38;5;241;43m>\u001b[39;49m\u001b[43m \u001b[49m\u001b[38;5;28;43mint\u001b[39;49m\u001b[43m:\u001b[49m\n\u001b[0;32m      3\u001b[0m \u001b[43m        \u001b[49m\u001b[43mevents\u001b[49m\u001b[38;5;241;43m.\u001b[39;49m\u001b[43msort\u001b[49m\u001b[43m(\u001b[49m\u001b[43mkey\u001b[49m\u001b[38;5;241;43m=\u001b[39;49m\u001b[38;5;28;43;01mlambda\u001b[39;49;00m\u001b[43m \u001b[49m\u001b[43mx\u001b[49m\u001b[43m:\u001b[49m\u001b[43m \u001b[49m\u001b[43mx\u001b[49m\u001b[43m[\u001b[49m\u001b[38;5;241;43m1\u001b[39;49m\u001b[43m]\u001b[49m\u001b[43m)\u001b[49m\n",
      "Cell \u001b[1;32mIn[54], line 2\u001b[0m, in \u001b[0;36mSolution\u001b[1;34m()\u001b[0m\n\u001b[0;32m      1\u001b[0m \u001b[38;5;28;01mclass\u001b[39;00m \u001b[38;5;21;01mSolution\u001b[39;00m:\n\u001b[1;32m----> 2\u001b[0m     \u001b[38;5;28;01mdef\u001b[39;00m \u001b[38;5;21mmaxTwoEvents\u001b[39m(\u001b[38;5;28mself\u001b[39m, events: \u001b[43mList\u001b[49m[List[\u001b[38;5;28mint\u001b[39m]]) \u001b[38;5;241m-\u001b[39m\u001b[38;5;241m>\u001b[39m \u001b[38;5;28mint\u001b[39m:\n\u001b[0;32m      3\u001b[0m         events\u001b[38;5;241m.\u001b[39msort(key\u001b[38;5;241m=\u001b[39m\u001b[38;5;28;01mlambda\u001b[39;00m x: x[\u001b[38;5;241m1\u001b[39m])\n\u001b[0;32m      5\u001b[0m         max_val \u001b[38;5;241m=\u001b[39m \u001b[38;5;241m0\u001b[39m\n",
      "\u001b[1;31mNameError\u001b[0m: name 'List' is not defined"
     ]
    }
   ],
   "source": [
    "class Solution:\n",
    "    def maxTwoEvents(self, events: List[List[int]]) -> int:\n",
    "        events.sort(key=lambda x: x[1])\n",
    "        \n",
    "        max_val = 0\n",
    "        max_sum = 0\n",
    "        n = len(events)\n",
    "        \n",
    "        max_vals = [0] * n\n",
    "\n",
    "        for i in range(n):\n",
    "            max_vals[i] = max(max_val, events[i][2])\n",
    "            max_val = max_vals[i]\n",
    "\n",
    "        for i in range(n):\n",
    "            left, right = 0, i - 1\n",
    "            while left <= right:\n",
    "                mid = (left + right) // 2\n",
    "                if events[mid][1] < events[i][0]:\n",
    "                    left = mid + 1\n",
    "                else:\n",
    "                    right = mid - 1\n",
    "                    \n",
    "            if right >= 0:\n",
    "                max_sum = max(max_sum, events[i][2] + max_vals[right])\n",
    "            else:\n",
    "                max_sum = max(max_sum, events[i][2])\n",
    "        \n",
    "        return max_sum"
   ]
  }
 ],
 "metadata": {
  "kernelspec": {
   "display_name": "Python 3",
   "language": "python",
   "name": "python3"
  },
  "language_info": {
   "codemirror_mode": {
    "name": "ipython",
    "version": 3
   },
   "file_extension": ".py",
   "mimetype": "text/x-python",
   "name": "python",
   "nbconvert_exporter": "python",
   "pygments_lexer": "ipython3",
   "version": "3.12.2"
  }
 },
 "nbformat": 4,
 "nbformat_minor": 2
}
