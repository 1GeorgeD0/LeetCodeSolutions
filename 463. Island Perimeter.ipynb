{
 "cells": [
  {
   "cell_type": "markdown",
   "metadata": {},
   "source": [
    "Идея решения: единственный способ найти периметр неправильной фигуры - сложить ее стороны. Чтобы найти длины всех нужных сторон на карте, для точек острова будем вычитать из их числа число соседей (1 - 0, 1 - 1). Таким образом, для каждой островной клетки нужно сделать 4 операции вычитания и суммировать разности, а затем суммировать эти суммы.\n",
    "\n",
    "Для технически правильного выполнения задания, нужно присоединить к карте пустое пространство по краям"
   ]
  },
  {
   "cell_type": "code",
   "execution_count": 37,
   "metadata": {},
   "outputs": [],
   "source": [
    "grid = [[0,1]]"
   ]
  },
  {
   "cell_type": "code",
   "execution_count": 29,
   "metadata": {},
   "outputs": [],
   "source": [
    "grid = [[0,1,0,0],[1,1,1,0],[0,1,0,0],[1,1,0,0]]"
   ]
  },
  {
   "cell_type": "code",
   "execution_count": 38,
   "metadata": {},
   "outputs": [],
   "source": [
    "need_len = len(grid) + 2"
   ]
  },
  {
   "cell_type": "code",
   "execution_count": 39,
   "metadata": {},
   "outputs": [],
   "source": [
    "for i in range(need_len-2):\n",
    "    grid[i].append(0)\n",
    "    grid[i].insert(0, 0)\n",
    "grid.insert(0, [0] * len(grid[0]))\n",
    "grid.append([0] * len(grid[0]))"
   ]
  },
  {
   "cell_type": "code",
   "execution_count": 40,
   "metadata": {},
   "outputs": [
    {
     "name": "stdout",
     "output_type": "stream",
     "text": [
      "4\n"
     ]
    }
   ],
   "source": [
    "out = 0\n",
    "for i in range(1, need_len-1):\n",
    "    for j in range(1, len(grid[0])-1):\n",
    "        if grid[i][j] == 1:\n",
    "            out += grid[i][j] - grid[i+1][j]\n",
    "            out += grid[i][j] - grid[i-1][j]\n",
    "            out += grid[i][j] - grid[i][j+1]\n",
    "            out += grid[i][j] - grid[i][j-1]\n",
    "print(out)\n"
   ]
  },
  {
   "cell_type": "code",
   "execution_count": 41,
   "metadata": {},
   "outputs": [
    {
     "data": {
      "text/plain": [
       "[[0, 0, 0, 0], [0, 0, 1, 0], [0, 0, 0, 0]]"
      ]
     },
     "execution_count": 41,
     "metadata": {},
     "output_type": "execute_result"
    }
   ],
   "source": [
    "grid"
   ]
  },
  {
   "cell_type": "markdown",
   "metadata": {},
   "source": [
    "---"
   ]
  },
  {
   "cell_type": "code",
   "execution_count": null,
   "metadata": {},
   "outputs": [],
   "source": [
    "        need_len = len(grid) + 2\n",
    "        for i in range(need_len-2):\n",
    "            grid[i].append(0)\n",
    "            grid[i].insert(0, 0)\n",
    "        grid.insert(0, [0] * len(grid[0]))\n",
    "        grid.append([0] * len(grid[0]))\n",
    "        out = 0\n",
    "        for i in range(1, need_len-1):\n",
    "            for j in range(1, len(grid[0])-1):\n",
    "                if grid[i][j] == 1:\n",
    "                    out += grid[i][j] - grid[i+1][j]\n",
    "                    out += grid[i][j] - grid[i-1][j]\n",
    "                    out += grid[i][j] - grid[i][j+1]\n",
    "                    out += grid[i][j] - grid[i][j-1]\n",
    "        return out"
   ]
  },
  {
   "cell_type": "code",
   "execution_count": null,
   "metadata": {},
   "outputs": [],
   "source": [
    "class Solution:\n",
    "    def islandPerimeter(self, grid: List[List[int]]) -> int:\n",
    "        perimeter = 0\n",
    "        rows, cols = len(grid), len(grid[0])\n",
    "        \n",
    "        for r in range(rows):\n",
    "            for c in range(cols):\n",
    "                if grid[r][c] == 1:\n",
    "                    perimeter += 4\n",
    "                    if r > 0 and grid[r-1][c] == 1:\n",
    "                        perimeter -= 2\n",
    "                    if c > 0 and grid[r][c-1] == 1:\n",
    "                        perimeter -= 2\n",
    "                        \n",
    "        return perimeter"
   ]
  },
  {
   "cell_type": "code",
   "execution_count": null,
   "metadata": {},
   "outputs": [],
   "source": [
    "def islandPerimeter( grid: List[List[int]]) -> int:\n",
    "    perimeter = 0\n",
    "    for i in range(len(grid)):\n",
    "        for j in range(len(grid[0])):\n",
    "            if grid[i][j] == 1:\n",
    "                perimeter += 4\n",
    "                if i > 0 and grid[i - 1][j] == 1:\n",
    "                    perimeter -= 2\n",
    "                if j > 0 and grid[i][j - 1] == 1:\n",
    "                    perimeter -= 2\n",
    "    return perimeter\n",
    "\n",
    "\n",
    "f = open(\"user.out\", \"w\")\n",
    "for i in map(loads, stdin):\n",
    "    f.write(f\"{islandPerimeter(i)}\\n\")\n",
    "f.flush()\n",
    "exit(0)"
   ]
  }
 ],
 "metadata": {
  "kernelspec": {
   "display_name": "Python 3",
   "language": "python",
   "name": "python3"
  },
  "language_info": {
   "codemirror_mode": {
    "name": "ipython",
    "version": 3
   },
   "file_extension": ".py",
   "mimetype": "text/x-python",
   "name": "python",
   "nbconvert_exporter": "python",
   "pygments_lexer": "ipython3",
   "version": "3.12.2"
  }
 },
 "nbformat": 4,
 "nbformat_minor": 2
}
