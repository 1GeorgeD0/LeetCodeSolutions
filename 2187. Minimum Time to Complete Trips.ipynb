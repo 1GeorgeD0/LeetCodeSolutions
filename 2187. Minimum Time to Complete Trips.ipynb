{
 "cells": [
  {
   "cell_type": "markdown",
   "metadata": {},
   "source": [
    "https://leetcode.com/problems/minimum-time-to-complete-trips/description/"
   ]
  },
  {
   "cell_type": "code",
   "execution_count": 10,
   "metadata": {},
   "outputs": [
    {
     "data": {
      "text/plain": [
       "[4, 2, 1]"
      ]
     },
     "execution_count": 10,
     "metadata": {},
     "output_type": "execute_result"
    }
   ],
   "source": [
    "lst = [1,2,3]\n",
    "[4 // i for i in lst]"
   ]
  },
  {
   "cell_type": "code",
   "execution_count": 18,
   "metadata": {},
   "outputs": [],
   "source": [
    "def minimumTime(time: list[int], totalTrips: int)-> int:\n",
    "    time_now = 1\n",
    "    trips_now = 0\n",
    "    while trips_now < totalTrips:\n",
    "        trips_now = sum([time_now // i for i in time])\n",
    "        time_now += 1\n",
    "    return time_now - 1"
   ]
  },
  {
   "cell_type": "code",
   "execution_count": 24,
   "metadata": {},
   "outputs": [
    {
     "data": {
      "text/plain": [
       "3"
      ]
     },
     "execution_count": 24,
     "metadata": {},
     "output_type": "execute_result"
    }
   ],
   "source": [
    "(1 + 5) // 2"
   ]
  },
  {
   "cell_type": "code",
   "execution_count": 22,
   "metadata": {},
   "outputs": [
    {
     "name": "stdout",
     "output_type": "stream",
     "text": [
      "True 3 3\n"
     ]
    }
   ],
   "source": [
    "time = [1,2,3]\n",
    "totalTrips = 5\n",
    "ans = 3\n",
    "print(ans == minimumTime(time, totalTrips), ans, minimumTime(time, totalTrips))"
   ]
  },
  {
   "cell_type": "code",
   "execution_count": 23,
   "metadata": {},
   "outputs": [
    {
     "name": "stdout",
     "output_type": "stream",
     "text": [
      "True 2 2\n"
     ]
    }
   ],
   "source": [
    "time = [2]\n",
    "totalTrips = 1\n",
    "ans = 2\n",
    "print(ans == minimumTime(time, totalTrips), ans, minimumTime(time, totalTrips))"
   ]
  },
  {
   "cell_type": "markdown",
   "metadata": {},
   "source": [
    "---"
   ]
  },
  {
   "cell_type": "code",
   "execution_count": 21,
   "metadata": {},
   "outputs": [],
   "source": [
    "def minimumTime(time: list[int], totalTrips: int) -> int:\n",
    "    left, right = 1, min(time) * totalTrips\n",
    "    \n",
    "    def trips_in_time(t):\n",
    "        return sum(t // i for i in time)\n",
    "\n",
    "    while left < right:\n",
    "        mid = (left + right) // 2\n",
    "        if trips_in_time(mid) >= totalTrips:\n",
    "            right = mid\n",
    "        else:\n",
    "            left = mid + 1\n",
    "    \n",
    "    return left\n"
   ]
  },
  {
   "cell_type": "code",
   "execution_count": null,
   "metadata": {},
   "outputs": [],
   "source": [
    "from typing import List\n",
    "def minimumTime(time: List[int], totalTrips: int) -> int:\n",
    "    n = len(time)\n",
    "    l = min(time)\n",
    "    r = max(time) * totalTrips\n",
    "    # compute trips completed in time t.\n",
    "    while l <= r:\n",
    "        m = l + (r-l) // 2\n",
    "        trips = 0\n",
    "        for t in time:\n",
    "            trips += m // t\n",
    "\n",
    "        if trips >= totalTrips:\n",
    "            r = m - 1\n",
    "        else:\n",
    "            l = m + 1\n",
    "\n",
    "    return l\n",
    "\n",
    "with open('user.out', 'w') as f:\n",
    "    inputs = map(loads, stdin)\n",
    "    for nums in inputs:\n",
    "        k = next(inputs)\n",
    "        print(minimumTime(nums, k), file=f)\n",
    "exit()"
   ]
  }
 ],
 "metadata": {
  "kernelspec": {
   "display_name": "Python 3",
   "language": "python",
   "name": "python3"
  },
  "language_info": {
   "codemirror_mode": {
    "name": "ipython",
    "version": 3
   },
   "file_extension": ".py",
   "mimetype": "text/x-python",
   "name": "python",
   "nbconvert_exporter": "python",
   "pygments_lexer": "ipython3",
   "version": "3.12.2"
  }
 },
 "nbformat": 4,
 "nbformat_minor": 2
}
