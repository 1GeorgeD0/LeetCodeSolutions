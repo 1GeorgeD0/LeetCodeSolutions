{
 "cells": [
  {
   "cell_type": "code",
   "execution_count": 4,
   "metadata": {},
   "outputs": [],
   "source": [
    "list1 = [1, 2, 4]\n",
    "list2 = [1, 3, 4]"
   ]
  },
  {
   "cell_type": "code",
   "execution_count": 5,
   "metadata": {},
   "outputs": [
    {
     "name": "stdout",
     "output_type": "stream",
     "text": [
      "[1, 1, 2, 3, 4, 4]\n"
     ]
    }
   ],
   "source": [
    "i, j = 0, 0\n",
    "out = []\n",
    "while i < len(list1) or j < len(list2):\n",
    "    if i < len(list1):\n",
    "        if j < len(list2):\n",
    "            if list1[i] <= list2[j]:\n",
    "                out.append(list1[i])\n",
    "                i += 1\n",
    "            else:\n",
    "                out.append(list2[j])\n",
    "                j += 1\n",
    "        else:\n",
    "            out.append(list1[i])\n",
    "            i += 1\n",
    "    else:\n",
    "        out.append(list2[j])\n",
    "        j += 1\n",
    "\n",
    "print(out)"
   ]
  },
  {
   "cell_type": "markdown",
   "metadata": {},
   "source": [
    "---"
   ]
  },
  {
   "cell_type": "code",
   "execution_count": null,
   "metadata": {},
   "outputs": [],
   "source": [
    "dummy = ListNode()\n",
    "current = dummy\n",
    "while list1 or list2:\n",
    "    if list1:\n",
    "        if list2:\n",
    "            if list1.val < list2.val:\n",
    "                current.next = ListNode(list1.val)\n",
    "                list1 = list1.next\n",
    "            else:\n",
    "                current.next = ListNode(list2.val)\n",
    "                list2 = list2.next\n",
    "        else:\n",
    "            current.next = ListNode(list1.val)\n",
    "            list1 = list1.next\n",
    "    else:\n",
    "        current.next = ListNode(list2.val)\n",
    "        list2 = list2.next\n",
    "    current = current.next\n",
    "return dummy.next"
   ]
  },
  {
   "cell_type": "code",
   "execution_count": null,
   "metadata": {},
   "outputs": [],
   "source": [
    "class Solution:\n",
    "    def mergeTwoLists(self, list1: Optional[ListNode], list2: Optional[ListNode]) -> Optional[ListNode]:\n",
    "        dummy = ListNode()\n",
    "        current = dummy\n",
    "        while list1 and list2:\n",
    "            if list1.val < list2.val:\n",
    "                current.next = list1\n",
    "                list1 = list1.next\n",
    "            else:\n",
    "                current.next = list2\n",
    "                list2 = list2.next\n",
    "            current = current.next\n",
    "            \n",
    "        if list1:\n",
    "            current.next = list1\n",
    "        else:\n",
    "            current.next = list2\n",
    "        return dummy.next"
   ]
  }
 ],
 "metadata": {
  "kernelspec": {
   "display_name": "Python 3",
   "language": "python",
   "name": "python3"
  },
  "language_info": {
   "codemirror_mode": {
    "name": "ipython",
    "version": 3
   },
   "file_extension": ".py",
   "mimetype": "text/x-python",
   "name": "python",
   "nbconvert_exporter": "python",
   "pygments_lexer": "ipython3",
   "version": "3.12.2"
  }
 },
 "nbformat": 4,
 "nbformat_minor": 2
}
