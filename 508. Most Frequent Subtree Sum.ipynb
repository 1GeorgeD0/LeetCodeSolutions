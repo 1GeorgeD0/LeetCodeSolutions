{
 "cells": [
  {
   "cell_type": "markdown",
   "metadata": {},
   "source": [
    "Прямой обход (pre-order traversal)\n",
    "В прямом обходе сначала посещаем корень, затем левое поддерево и правое поддерево."
   ]
  },
  {
   "cell_type": "code",
   "execution_count": null,
   "metadata": {},
   "outputs": [],
   "source": [
    "        def pre_order(node):\n",
    "            if node:\n",
    "                out.append(node.val)\n",
    "                pre_order(node.left)\n",
    "                pre_order(node.right)"
   ]
  },
  {
   "cell_type": "code",
   "execution_count": null,
   "metadata": {},
   "outputs": [],
   "source": [
    "def post_order(node):\n",
    "    if node:\n",
    "        post_order(node.left)\n",
    "        post_order(node.right)\n",
    "        out.append(node.val)"
   ]
  },
  {
   "cell_type": "code",
   "execution_count": 5,
   "metadata": {},
   "outputs": [
    {
     "data": {
      "text/plain": [
       "2"
      ]
     },
     "execution_count": 5,
     "metadata": {},
     "output_type": "execute_result"
    }
   ],
   "source": [
    "lst = [2, -5, 2]\n",
    "lst.count(2)"
   ]
  },
  {
   "cell_type": "code",
   "execution_count": null,
   "metadata": {},
   "outputs": [],
   "source": [
    "\"2-52\".count(\"2\")"
   ]
  },
  {
   "cell_type": "code",
   "execution_count": 10,
   "metadata": {},
   "outputs": [
    {
     "data": {
      "text/plain": [
       "[1, 6]"
      ]
     },
     "execution_count": 10,
     "metadata": {},
     "output_type": "execute_result"
    }
   ],
   "source": [
    "dct = {1: 3, -5: 2, 6: 3}\n",
    "value = max(dct.values())\n",
    "out = []\n",
    "for key, val in dct.items():\n",
    "    if val == value:\n",
    "        out.append(key)\n",
    "        \n",
    "out"
   ]
  },
  {
   "cell_type": "markdown",
   "metadata": {},
   "source": [
    "---"
   ]
  },
  {
   "cell_type": "code",
   "execution_count": null,
   "metadata": {},
   "outputs": [],
   "source": [
    "class Solution:\n",
    "    def findFrequentTreeSum(self, root: Optional[TreeNode]) -> List[int]:\n",
    "        dct = {}\n",
    "        def post_order(node):\n",
    "            if node:\n",
    "                this_node = node.val + post_order(node.left) + post_order(node.right)\n",
    "                if this_node in dct.keys():\n",
    "                    dct[this_node] += 1\n",
    "                else:\n",
    "                    dct[this_node] = 1\n",
    "                return this_node\n",
    "            return 0\n",
    "        post_order(root)\n",
    "        value = max(dct.values())\n",
    "        out = []\n",
    "        \n",
    "        for key, val in dct.items():\n",
    "            if val == value:\n",
    "                out.append(key)\n",
    "        return out"
   ]
  }
 ],
 "metadata": {
  "kernelspec": {
   "display_name": "Python 3",
   "language": "python",
   "name": "python3"
  },
  "language_info": {
   "codemirror_mode": {
    "name": "ipython",
    "version": 3
   },
   "file_extension": ".py",
   "mimetype": "text/x-python",
   "name": "python",
   "nbconvert_exporter": "python",
   "pygments_lexer": "ipython3",
   "version": "3.12.2"
  }
 },
 "nbformat": 4,
 "nbformat_minor": 2
}
